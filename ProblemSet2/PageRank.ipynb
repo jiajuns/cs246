{
 "cells": [
  {
   "cell_type": "code",
   "execution_count": 1,
   "metadata": {
    "collapsed": true
   },
   "outputs": [],
   "source": [
    "import numpy as np\n",
    "\n",
    "N = 100\n",
    "iteration = 40"
   ]
  },
  {
   "cell_type": "code",
   "execution_count": 2,
   "metadata": {
    "collapsed": false
   },
   "outputs": [],
   "source": [
    "# get count from txt file\n",
    "def edge_counter(file_name = 'graph.txt', count_matrix = np.zeros((N, N))):\n",
    "    with open(file_name) as fp:\n",
    "        for line in fp:\n",
    "            source_node, dest_node = line.split() # node number is 1-based\n",
    "            if count_matrix[int(dest_node)-1, int(source_node)-1] < 1:  \n",
    "                count_matrix[int(dest_node)-1, int(source_node)-1] += 1\n",
    "        fp.close()\n",
    "        \n",
    "    return count_matrix"
   ]
  },
  {
   "cell_type": "code",
   "execution_count": 3,
   "metadata": {
    "collapsed": true
   },
   "outputs": [],
   "source": [
    "# generate matrix M\n",
    "def M_matrix(count_matrix=edge_counter()):\n",
    "    M = count_matrix / np.sum(count_matrix, axis=0)\n",
    "    return M"
   ]
  },
  {
   "cell_type": "code",
   "execution_count": 4,
   "metadata": {
    "collapsed": false
   },
   "outputs": [
    {
     "name": "stdout",
     "output_type": "stream",
     "text": [
      "top 5 nodes:  [53, 14, 40, 1, 27]\n",
      "bottom 5 nodes:  [85, 59, 81, 37, 89]\n"
     ]
    }
   ],
   "source": [
    "## page rank\n",
    "r = np.array([1./N for _ in range(N)]).reshape(N, 1)\n",
    "beta = 0.8\n",
    "M = M_matrix()\n",
    "\n",
    "for _ in range(iteration):\n",
    "    r = np.array([(1-beta)/N for _ in range(N)]).reshape(N, 1) + beta * M.dot(r)\n",
    "    \n",
    "print('top 5 nodes: ', sorted(range(1, len(r)+1), key=lambda i: r[i-1])[-5:][::-1])\n",
    "print('bottom 5 nodes: ', sorted(range(1, len(r)+1), key=lambda i: r[i-1])[:5])"
   ]
  },
  {
   "cell_type": "code",
   "execution_count": 5,
   "metadata": {
    "collapsed": true
   },
   "outputs": [],
   "source": [
    "## HITS \n",
    "\n",
    "L = np.transpose(edge_counter())\n",
    "lambbda = 1\n",
    "mu = 1\n",
    "\n",
    "h = np.array([1 for _ in range(N)]).reshape(N, 1)\n",
    "\n",
    "a = L.T.dot(h)\n",
    "a = a/np.max(a)\n",
    "\n",
    "h = L.dot(a)\n",
    "h = h/np.max(h)\n",
    "\n",
    "for _ in range(iteration):\n",
    "    a = lambbda * L.T.dot(h)\n",
    "    a = a/np.max(a)\n",
    "    h = mu * L.dot(a)\n",
    "    h = h/np.max(h)"
   ]
  },
  {
   "cell_type": "code",
   "execution_count": 6,
   "metadata": {
    "collapsed": false
   },
   "outputs": [
    {
     "name": "stdout",
     "output_type": "stream",
     "text": [
      "top 5 hubbiness nodes:  [59, 39, 22, 11, 58]\n",
      "bottom 5 hubbiness nodes:  [9, 35, 15, 95, 53]\n",
      "top 5 authority nodes:  [66, 40, 27, 53, 1]\n",
      "bottom 5 authority nodes:  [54, 33, 24, 67, 50]\n"
     ]
    }
   ],
   "source": [
    "print('top 5 hubbiness nodes: ', sorted(range(1, len(r)+1), key=lambda i: h[i-1])[-5:][::-1])\n",
    "print('bottom 5 hubbiness nodes: ', sorted(range(1, len(r)+1), key=lambda i: h[i-1])[:5])\n",
    "print('top 5 authority nodes: ', sorted(range(1, len(r)+1), key=lambda i: a[i-1])[-5:][::-1])\n",
    "print('bottom 5 authority nodes: ', sorted(range(1, len(r)+1), key=lambda i: a[i-1])[:5])"
   ]
  },
  {
   "cell_type": "code",
   "execution_count": null,
   "metadata": {
    "collapsed": true
   },
   "outputs": [],
   "source": []
  }
 ],
 "metadata": {
  "kernelspec": {
   "display_name": "Python [Root]",
   "language": "python",
   "name": "Python [Root]"
  },
  "language_info": {
   "codemirror_mode": {
    "name": "ipython",
    "version": 3
   },
   "file_extension": ".py",
   "mimetype": "text/x-python",
   "name": "python",
   "nbconvert_exporter": "python",
   "pygments_lexer": "ipython3",
   "version": "3.5.2"
  }
 },
 "nbformat": 4,
 "nbformat_minor": 0
}
